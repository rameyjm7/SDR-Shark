{
 "cells": [
  {
   "cell_type": "code",
   "execution_count": 1,
   "metadata": {},
   "outputs": [
    {
     "name": "stdout",
     "output_type": "stream",
     "text": [
      "/root/sdrfly\n"
     ]
    },
    {
     "name": "stderr",
     "output_type": "stream",
     "text": [
      "SKIQ[402740]: <WARNING> Process 402695 had owned lock but no longer exists, forcing unlock\n",
      "SKIQ[402740]: <INFO> libsidekiq v4.18.1 (g58be05ffb)\n",
      "python3[402740]: [card-0] <INFO> Sidekiq card is serial number=7G2Y, hardware M2 C (rev C), product SKIQ-M2-002 (M.2) (part ES01420*-C0-00)\n",
      "python3[402740]: [card-0] <INFO> Firmware v2.9\n",
      "python3[402740]: [card-0] <INFO> Sidekiq: FPGA v3.18.1, (date 24052819, FIFO size 16k)\n",
      "python3[402740]: [card-0] <INFO> Sidekiq card is configured for an internal reference clock\n",
      "python3[402740]: [card-0] <INFO> Loading calibration data for Sidekiq M.2\n",
      "python3[402740]: [card-0] <INFO> RF IC version 5.5.1\n",
      "python3[402740]: [card-0] <INFO> Number of tx channels supported 1, number of rx channels supported 1\n",
      "python3[402740]: [card-0] <INFO> Default warp voltage not currently stored (user)\n",
      "[INFO] Using format CF32.\n",
      "[INFO] Starting RX Sidekiq Thread\n"
     ]
    },
    {
     "ename": "",
     "evalue": "",
     "output_type": "error",
     "traceback": [
      "\u001b[1;31mThe Kernel crashed while executing code in the current cell or a previous cell. \n",
      "\u001b[1;31mPlease review the code in the cell(s) to identify a possible cause of the failure. \n",
      "\u001b[1;31mClick <a href='https://aka.ms/vscodeJupyterKernelCrash'>here</a> for more info. \n",
      "\u001b[1;31mView Jupyter <a href='command:jupyter.viewOutput'>log</a> for further details."
     ]
    }
   ],
   "source": [
    "import numpy as np\n",
    "import matplotlib.pyplot as plt\n",
    "from sdr_plot_backend.signal_utils import detect_signal_peaks_freq_power\n",
    "from sdrfly.sdr.sdr_generic import SDRGeneric\n",
    "import time\n",
    "\n",
    "def sweep_and_detect_peaks(start_freq, stop_freq, sample_rate, bandwidth, sdr_type=\"sidekiq\"):\n",
    "    fft_size = 1024\n",
    "    sdr = SDRGeneric(sdr_type, center_freq=start_freq, sample_rate=sample_rate, bandwidth=bandwidth, gain=30, size=fft_size)\n",
    "    sdr.start()\n",
    "\n",
    "    full_fft = np.zeros(fft_size)\n",
    "    current_freq = start_freq\n",
    "\n",
    "    while current_freq <= stop_freq:\n",
    "        iq_data = sdr.get_latest_samples()\n",
    "        fft_result = np.fft.fftshift(np.fft.fft(iq_data, fft_size))\n",
    "        fft_magnitude = np.abs(fft_result)\n",
    "        fft_magnitude_db = 20 * np.log10(fft_magnitude)\n",
    "        full_fft += fft_magnitude_db\n",
    "\n",
    "        current_freq += bandwidth\n",
    "        sdr.set_frequency(current_freq)\n",
    "    \n",
    "    sdr.stop()\n",
    "    \n",
    "    averaged_fft_db = full_fft / ((stop_freq - start_freq) / bandwidth + 1)\n",
    "    signal_peaks = detect_signal_peaks_freq_power(averaged_fft_db, (start_freq + stop_freq) / 2, sample_rate, fft_size)\n",
    "\n",
    "    # Plot the results in dark mode\n",
    "    frequencies = np.linspace(start_freq, stop_freq, fft_size)\n",
    "\n",
    "    plt.figure(figsize=(10, 6))\n",
    "    plt.plot(frequencies / 1e6, averaged_fft_db, color='yellow')\n",
    "    for freq, power in signal_peaks:\n",
    "        plt.axvline(freq, color='red', linestyle='--')\n",
    "        plt.text(freq, power, f'{freq:.2f} MHz\\n{power:.2f} dB', color='white')\n",
    "    plt.title(\"Detected Peaks\")\n",
    "    plt.xlabel(\"Frequency (MHz)\")\n",
    "    plt.ylabel(\"Magnitude (dB)\")\n",
    "    plt.grid(True, color='gray')\n",
    "    plt.gca().set_facecolor('black')\n",
    "    plt.show()\n",
    "\n",
    "    # Print out the detected peaks and their power levels\n",
    "    print(\"Detected peaks:\")\n",
    "    for freq, power in signal_peaks:\n",
    "        print(f\"Frequency: {freq:.2f} MHz, Power: {power:.2f} dB\")\n",
    "\n",
    "# Sweep settings\n",
    "start_freq = 80e6  # Start frequency in Hz\n",
    "stop_freq = 150e6  # Stop frequency in Hz\n",
    "sample_rate = 60e6  # Sample rate in Hz\n",
    "bandwidth = 60e6  # Bandwidth in Hz\n",
    "\n",
    "# Perform the sweep and detect peaks\n",
    "sweep_and_detect_peaks(start_freq, stop_freq, sample_rate, bandwidth)\n"
   ]
  }
 ],
 "metadata": {
  "kernelspec": {
   "display_name": "python3.9",
   "language": "python",
   "name": "python3"
  },
  "language_info": {
   "codemirror_mode": {
    "name": "ipython",
    "version": 3
   },
   "file_extension": ".py",
   "mimetype": "text/x-python",
   "name": "python",
   "nbconvert_exporter": "python",
   "pygments_lexer": "ipython3",
   "version": "3.9.5"
  }
 },
 "nbformat": 4,
 "nbformat_minor": 2
}
